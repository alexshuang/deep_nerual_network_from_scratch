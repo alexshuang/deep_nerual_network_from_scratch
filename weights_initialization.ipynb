{
  "nbformat": 4,
  "nbformat_minor": 0,
  "metadata": {
    "colab": {
      "name": "weights_initialization.ipynb",
      "version": "0.3.2",
      "provenance": [],
      "collapsed_sections": []
    },
    "kernelspec": {
      "name": "python3",
      "display_name": "Python 3"
    }
  },
  "cells": [
    {
      "cell_type": "code",
      "metadata": {
        "id": "b-OewEkEVX2P",
        "colab_type": "code",
        "colab": {}
      },
      "source": [
        "import torch\n",
        "import torch.nn as nn\n",
        "import fastai.datasets as datasets\n",
        "import gzip\n",
        "import pickle\n",
        "import math\n",
        "import torch.nn.functional as F"
      ],
      "execution_count": 0,
      "outputs": []
    },
    {
      "cell_type": "code",
      "metadata": {
        "id": "4qdt9mIkV2Ni",
        "colab_type": "code",
        "colab": {
          "base_uri": "https://localhost:8080/",
          "height": 35
        },
        "outputId": "1638e1fd-b59c-4321-f187-3fbdf019a8de"
      },
      "source": [
        "MNIST_URL = 'http://deeplearning.net/data/mnist/mnist.pkl'\n",
        "fpath = datasets.download_data(MNIST_URL, ext='.gz')\n",
        "\n",
        "with gzip.open(fpath, 'rb') as fp:\n",
        "  ((x_train, y_train), (x_val, y_val), _) = pickle.load(fp, encoding='latin-1')\n",
        "x_train.shape, y_train.shape, x_val.shape, y_val.shape"
      ],
      "execution_count": 35,
      "outputs": [
        {
          "output_type": "execute_result",
          "data": {
            "text/plain": [
              "((50000, 784), (50000,), (10000, 784), (10000,))"
            ]
          },
          "metadata": {
            "tags": []
          },
          "execution_count": 35
        }
      ]
    },
    {
      "cell_type": "code",
      "metadata": {
        "id": "WpAQ__C4V2QA",
        "colab_type": "code",
        "colab": {
          "base_uri": "https://localhost:8080/",
          "height": 35
        },
        "outputId": "9d08ccfb-37ee-4e50-9802-5bd9496262dd"
      },
      "source": [
        "x_train.mean(), x_train.std(), x_val.mean(), x_val.std()"
      ],
      "execution_count": 36,
      "outputs": [
        {
          "output_type": "execute_result",
          "data": {
            "text/plain": [
              "(0.13044983, 0.3072898, 0.12865187, 0.3049646)"
            ]
          },
          "metadata": {
            "tags": []
          },
          "execution_count": 36
        }
      ]
    },
    {
      "cell_type": "markdown",
      "metadata": {
        "id": "qL7ca8s5ZeF7",
        "colab_type": "text"
      },
      "source": [
        "### Normalize"
      ]
    },
    {
      "cell_type": "code",
      "metadata": {
        "id": "G1TZ97yCV2Sb",
        "colab_type": "code",
        "colab": {}
      },
      "source": [
        "def norm(x, m, s): return (x - m) / s"
      ],
      "execution_count": 0,
      "outputs": []
    },
    {
      "cell_type": "code",
      "metadata": {
        "id": "aCXr9FhoZjUJ",
        "colab_type": "code",
        "colab": {
          "base_uri": "https://localhost:8080/",
          "height": 35
        },
        "outputId": "d0ba4b73-4531-4efa-b702-cc03e6298ef7"
      },
      "source": [
        "m, s = x_train.mean(), x_train.std()\n",
        "x_train, x_val = norm(x_train, m, s), norm(x_val, m, s)\n",
        "x_val.mean(), x_val.std()"
      ],
      "execution_count": 38,
      "outputs": [
        {
          "output_type": "execute_result",
          "data": {
            "text/plain": [
              "(-0.005850922, 0.99243325)"
            ]
          },
          "metadata": {
            "tags": []
          },
          "execution_count": 38
        }
      ]
    },
    {
      "cell_type": "code",
      "metadata": {
        "id": "eEwdGApAdddn",
        "colab_type": "code",
        "colab": {
          "base_uri": "https://localhost:8080/",
          "height": 53
        },
        "outputId": "282ead3d-2be3-4853-8a4b-8139db0b314b"
      },
      "source": [
        "x_train[0], x_val[0]"
      ],
      "execution_count": 40,
      "outputs": [
        {
          "output_type": "execute_result",
          "data": {
            "text/plain": [
              "(array([-0.424517, -0.424517, -0.424517, -0.424517, ..., -0.424517, -0.424517, -0.424517, -0.424517], dtype=float32),\n",
              " array([-0.424517, -0.424517, -0.424517, -0.424517, ..., -0.424517, -0.424517, -0.424517, -0.424517], dtype=float32))"
            ]
          },
          "metadata": {
            "tags": []
          },
          "execution_count": 40
        }
      ]
    },
    {
      "cell_type": "code",
      "metadata": {
        "id": "JuebIDUKctpG",
        "colab_type": "code",
        "colab": {}
      },
      "source": [
        "x_train, y_train, x_val, y_val = map(torch.tensor, [x_train, y_train, x_val, y_val])"
      ],
      "execution_count": 0,
      "outputs": []
    },
    {
      "cell_type": "markdown",
      "metadata": {
        "id": "8c3ytSKwaTZY",
        "colab_type": "text"
      },
      "source": [
        "### Model: $y = ax + b$ : linear -> relu -> linear"
      ]
    },
    {
      "cell_type": "code",
      "metadata": {
        "id": "H27jhEuelx8v",
        "colab_type": "code",
        "colab": {}
      },
      "source": [
        "def linear(x, w, b):\n",
        "  z = x @ w + b\n",
        "  print(z.mean(), z.std())\n",
        "  return z\n",
        "\n",
        "def relu(x): return x.clamp_min(0.)"
      ],
      "execution_count": 0,
      "outputs": []
    },
    {
      "cell_type": "code",
      "metadata": {
        "id": "zcoC7WyXa52u",
        "colab_type": "code",
        "colab": {}
      },
      "source": [
        "nh = 50"
      ],
      "execution_count": 0,
      "outputs": []
    },
    {
      "cell_type": "code",
      "metadata": {
        "id": "Ok4tD9pbZjcG",
        "colab_type": "code",
        "colab": {}
      },
      "source": [
        "W1 = torch.randn(784, nh)\n",
        "b1 = torch.zeros(nh)\n",
        "W2 = torch.randn(nh, 1)\n",
        "b2 = torch.zeros(1)"
      ],
      "execution_count": 0,
      "outputs": []
    },
    {
      "cell_type": "code",
      "metadata": {
        "id": "49Qf1FSUZjaO",
        "colab_type": "code",
        "colab": {
          "base_uri": "https://localhost:8080/",
          "height": 35
        },
        "outputId": "849c6800-e05f-493b-d1c2-64876f46360b"
      },
      "source": [
        "W1.mean(), W1.std()"
      ],
      "execution_count": 80,
      "outputs": [
        {
          "output_type": "execute_result",
          "data": {
            "text/plain": [
              "(tensor(-0.0078), tensor(1.0026))"
            ]
          },
          "metadata": {
            "tags": []
          },
          "execution_count": 80
        }
      ]
    },
    {
      "cell_type": "code",
      "metadata": {
        "id": "G9RNGEReZjXs",
        "colab_type": "code",
        "colab": {
          "base_uri": "https://localhost:8080/",
          "height": 35
        },
        "outputId": "ac80eed4-76d4-4fbe-9976-8abe058c04ca"
      },
      "source": [
        "z1 = linear(x_train, W1, b1)"
      ],
      "execution_count": 81,
      "outputs": [
        {
          "output_type": "stream",
          "text": [
            "tensor(-0.8809) tensor(26.9281)\n"
          ],
          "name": "stdout"
        }
      ]
    },
    {
      "cell_type": "code",
      "metadata": {
        "id": "LvDmpCHiV2U6",
        "colab_type": "code",
        "colab": {}
      },
      "source": [
        "W1 = torch.randn(784, nh) * math.sqrt(1 / 784)\n",
        "b1 = torch.zeros(nh)\n",
        "W2 = torch.randn(nh, 1) * math.sqrt(1 / nh)\n",
        "b2 = torch.zeros(1)"
      ],
      "execution_count": 0,
      "outputs": []
    },
    {
      "cell_type": "code",
      "metadata": {
        "id": "EuA77sOFV2XY",
        "colab_type": "code",
        "colab": {
          "base_uri": "https://localhost:8080/",
          "height": 35
        },
        "outputId": "2b9d211a-c8df-4c31-9beb-5ed36cae4bdd"
      },
      "source": [
        "z1 = linear(x_train, W1, b1)"
      ],
      "execution_count": 83,
      "outputs": [
        {
          "output_type": "stream",
          "text": [
            "tensor(0.1031) tensor(0.9458)\n"
          ],
          "name": "stdout"
        }
      ]
    },
    {
      "cell_type": "code",
      "metadata": {
        "id": "FrunMAK9fmsy",
        "colab_type": "code",
        "colab": {
          "base_uri": "https://localhost:8080/",
          "height": 35
        },
        "outputId": "733d93d9-7a8c-4374-b808-4d490364594f"
      },
      "source": [
        "a1 = relu(z1)\n",
        "a1.mean(), a1.std()"
      ],
      "execution_count": 84,
      "outputs": [
        {
          "output_type": "execute_result",
          "data": {
            "text/plain": [
              "(tensor(0.4272), tensor(0.5915))"
            ]
          },
          "metadata": {
            "tags": []
          },
          "execution_count": 84
        }
      ]
    },
    {
      "cell_type": "code",
      "metadata": {
        "id": "663uy_3nfwoI",
        "colab_type": "code",
        "colab": {}
      },
      "source": [
        "W1 = torch.randn(784, nh) * math.sqrt(2 / 784)\n",
        "b1 = torch.zeros(nh)\n",
        "W2 = torch.randn(nh, 1) * math.sqrt(2 / nh)\n",
        "b2 = torch.zeros(1)"
      ],
      "execution_count": 0,
      "outputs": []
    },
    {
      "cell_type": "code",
      "metadata": {
        "id": "cTOlQIrefyRc",
        "colab_type": "code",
        "colab": {
          "base_uri": "https://localhost:8080/",
          "height": 35
        },
        "outputId": "fa683a8e-bdd6-49e5-c9cb-9e0837c86798"
      },
      "source": [
        "z1 = linear(x_train, W1, b1)"
      ],
      "execution_count": 86,
      "outputs": [
        {
          "output_type": "stream",
          "text": [
            "tensor(-0.1405) tensor(1.3252)\n"
          ],
          "name": "stdout"
        }
      ]
    },
    {
      "cell_type": "code",
      "metadata": {
        "id": "Y8QiqVJcmjN9",
        "colab_type": "code",
        "colab": {
          "base_uri": "https://localhost:8080/",
          "height": 35
        },
        "outputId": "b11ea215-1a27-49ba-af89-e845392d009f"
      },
      "source": [
        "a1 = relu(z1)\n",
        "a1.mean(), a1.std()"
      ],
      "execution_count": 87,
      "outputs": [
        {
          "output_type": "execute_result",
          "data": {
            "text/plain": [
              "(tensor(0.4553), tensor(0.7339))"
            ]
          },
          "metadata": {
            "tags": []
          },
          "execution_count": 87
        }
      ]
    },
    {
      "cell_type": "code",
      "metadata": {
        "id": "3TlgTiMSfyXl",
        "colab_type": "code",
        "colab": {}
      },
      "source": [
        "def relu(x): return x.clamp_min(0.) - 0.5"
      ],
      "execution_count": 0,
      "outputs": []
    },
    {
      "cell_type": "code",
      "metadata": {
        "id": "Q-68EkaRfyVy",
        "colab_type": "code",
        "colab": {
          "base_uri": "https://localhost:8080/",
          "height": 35
        },
        "outputId": "99a77637-9fef-4010-9cfb-1c363df599e1"
      },
      "source": [
        "a1 = relu(z1)\n",
        "a1.mean(), a1.std()"
      ],
      "execution_count": 89,
      "outputs": [
        {
          "output_type": "execute_result",
          "data": {
            "text/plain": [
              "(tensor(-0.0447), tensor(0.7339))"
            ]
          },
          "metadata": {
            "tags": []
          },
          "execution_count": 89
        }
      ]
    },
    {
      "cell_type": "code",
      "metadata": {
        "id": "J6mNobyjlf7n",
        "colab_type": "code",
        "colab": {}
      },
      "source": [
        "import torch.nn.init as init"
      ],
      "execution_count": 0,
      "outputs": []
    },
    {
      "cell_type": "code",
      "metadata": {
        "id": "GZ4NCXVnlgKF",
        "colab_type": "code",
        "colab": {}
      },
      "source": [
        "init.kaiming_normal_??"
      ],
      "execution_count": 0,
      "outputs": []
    },
    {
      "cell_type": "code",
      "metadata": {
        "id": "qtXgiRLulgQr",
        "colab_type": "code",
        "colab": {
          "base_uri": "https://localhost:8080/",
          "height": 35
        },
        "outputId": "c89fefed-1ed6-41c8-ba00-b03aeaabbda4"
      },
      "source": [
        "W1.shape"
      ],
      "execution_count": 92,
      "outputs": [
        {
          "output_type": "execute_result",
          "data": {
            "text/plain": [
              "torch.Size([784, 50])"
            ]
          },
          "metadata": {
            "tags": []
          },
          "execution_count": 92
        }
      ]
    },
    {
      "cell_type": "code",
      "metadata": {
        "id": "cq7GKROwlgVm",
        "colab_type": "code",
        "colab": {
          "base_uri": "https://localhost:8080/",
          "height": 35
        },
        "outputId": "1e32e0d7-b04d-407c-e107-d131e1c0df11"
      },
      "source": [
        "nn.Linear(784, nh).weight.data.shape"
      ],
      "execution_count": 94,
      "outputs": [
        {
          "output_type": "execute_result",
          "data": {
            "text/plain": [
              "torch.Size([50, 784])"
            ]
          },
          "metadata": {
            "tags": []
          },
          "execution_count": 94
        }
      ]
    },
    {
      "cell_type": "code",
      "metadata": {
        "id": "A4ksP1Xylf-3",
        "colab_type": "code",
        "colab": {}
      },
      "source": [
        "??nn.Linear.forward"
      ],
      "execution_count": 0,
      "outputs": []
    },
    {
      "cell_type": "code",
      "metadata": {
        "id": "8TNp0pUq2mWF",
        "colab_type": "code",
        "colab": {}
      },
      "source": [
        "init._calculate_correct_fan??"
      ],
      "execution_count": 0,
      "outputs": []
    },
    {
      "cell_type": "code",
      "metadata": {
        "id": "Qijx8KKv2Je7",
        "colab_type": "code",
        "colab": {}
      },
      "source": [
        "init._calculate_fan_in_and_fan_out??"
      ],
      "execution_count": 0,
      "outputs": []
    },
    {
      "cell_type": "code",
      "metadata": {
        "id": "ZrRj4dMLpeRP",
        "colab_type": "code",
        "colab": {
          "base_uri": "https://localhost:8080/",
          "height": 53
        },
        "outputId": "b3e63890-3c5b-4be5-c66b-f6b8a3471dfe"
      },
      "source": [
        "w = torch.zeros(784, nh)\n",
        "z1 = linear(x_train, w, b1)\n",
        "a1 = relu(z1)\n",
        "a1.mean(), a1.std()"
      ],
      "execution_count": 99,
      "outputs": [
        {
          "output_type": "stream",
          "text": [
            "tensor(0.) tensor(0.)\n"
          ],
          "name": "stdout"
        },
        {
          "output_type": "execute_result",
          "data": {
            "text/plain": [
              "(tensor(0.), tensor(0.))"
            ]
          },
          "metadata": {
            "tags": []
          },
          "execution_count": 99
        }
      ]
    },
    {
      "cell_type": "code",
      "metadata": {
        "id": "CD9OPwYglgOo",
        "colab_type": "code",
        "colab": {
          "base_uri": "https://localhost:8080/",
          "height": 71
        },
        "outputId": "0f08d754-872b-4f31-91d6-817866e7a52c"
      },
      "source": [
        "W1 = torch.zeros(784, nh)\n",
        "b1 = torch.zeros(nh)\n",
        "W2 = torch.zeros(nh, 1)\n",
        "b2 = torch.zeros(1)\n",
        "\n",
        "init.kaiming_normal_(W1, mode='fan_out', nonlinearity='relu')\n",
        "init.kaiming_normal_(W2, mode='fan_out')\n",
        "z1 = linear(x_train, W1, b1)\n",
        "a1 = relu(z1)\n",
        "print(\"layer1: \", a1.mean(), a1.std())\n",
        "z2 = linear(a1, W2, b2)"
      ],
      "execution_count": 108,
      "outputs": [
        {
          "output_type": "stream",
          "text": [
            "tensor(0.0053) tensor(1.4042)\n",
            "layer1:  tensor(0.5583) tensor(0.8157)\n",
            "tensor(1.1784) tensor(1.3209)\n"
          ],
          "name": "stdout"
        }
      ]
    },
    {
      "cell_type": "code",
      "metadata": {
        "id": "9ADcvehSlgHR",
        "colab_type": "code",
        "colab": {
          "base_uri": "https://localhost:8080/",
          "height": 71
        },
        "outputId": "990e98ad-e33b-40d7-9842-8bd1fb2f8b3a"
      },
      "source": [
        "def linear(x, w, b):\n",
        "  return x @ w + b\n",
        "\n",
        "def relu(x):\n",
        "  return x.clamp_min(0.) - 0.5\n",
        "\n",
        "def model(x):\n",
        "  x = relu(linear(x, W1, b1))\n",
        "  print(\"layer1: \", x.mean(), x.std())\n",
        "  x = relu(linear(x, W2, b2))\n",
        "  print(\"layer2: \", x.mean(), x.std())\n",
        "  x = linear(x, W3, b3)\n",
        "  print(\"layer3: \", x.mean(), x.std())\n",
        "  return x\n",
        "\n",
        "nh = [100, 50]\n",
        "W1 = torch.zeros(784, nh[0])\n",
        "b1 = torch.zeros(nh[0])\n",
        "W2 = torch.zeros(nh[0], nh[1])\n",
        "b2 = torch.zeros(nh[1])\n",
        "W3 = torch.zeros(nh[1], 1)\n",
        "b3 = torch.zeros(1)\n",
        "\n",
        "init.kaiming_normal_(W1, mode='fan_out')\n",
        "init.kaiming_normal_(W2, mode='fan_out')\n",
        "init.kaiming_normal_(W3, mode='fan_out')\n",
        "_ = model(x_train)"
      ],
      "execution_count": 132,
      "outputs": [
        {
          "output_type": "stream",
          "text": [
            "layer1:  tensor(0.0134) tensor(0.7912)\n",
            "layer2:  tensor(0.0073) tensor(0.6957)\n",
            "layer3:  tensor(-0.3079) tensor(0.9384)\n"
          ],
          "name": "stdout"
        }
      ]
    },
    {
      "cell_type": "code",
      "metadata": {
        "id": "iub_4vBR3Wjq",
        "colab_type": "code",
        "colab": {}
      },
      "source": [
        "??nn.Linear"
      ],
      "execution_count": 0,
      "outputs": []
    },
    {
      "cell_type": "code",
      "metadata": {
        "id": "NGA3ksj0xsi8",
        "colab_type": "code",
        "colab": {
          "base_uri": "https://localhost:8080/",
          "height": 71
        },
        "outputId": "34af277f-243d-44e0-f5b3-64354defe7e4"
      },
      "source": [
        "class Model(nn.Module):\n",
        "  def __init__(self):\n",
        "    super().__init__()\n",
        "    self.lin1 = nn.Linear(784, nh[0])\n",
        "    self.lin2 = nn.Linear(nh[0], nh[1])\n",
        "    self.lin3 = nn.Linear(nh[1], 1)\n",
        "    self.relu = nn.ReLU()\n",
        "  \n",
        "  def forward(self, x):\n",
        "    x = self.relu(self.lin1(x))\n",
        "    print(\"layer 1: \", x.mean().item(), x.std().item())\n",
        "    x = self.lin2(x)\n",
        "    print(\"layer 2: \", x.mean().item(), x.std().item())\n",
        "    x = self.lin3(x)\n",
        "    print(\"layer 3: \", x.mean().item(), x.std().item())\n",
        "    return x\n",
        "\n",
        "m = Model()\n",
        "_ = m(x_train)"
      ],
      "execution_count": 133,
      "outputs": [
        {
          "output_type": "stream",
          "text": [
            "layer 1:  0.2270725518465042 0.3270741105079651\n",
            "layer 2:  0.033514849841594696 0.23475737869739532\n",
            "layer 3:  0.013271240517497063 0.09185370802879333\n"
          ],
          "name": "stdout"
        }
      ]
    },
    {
      "cell_type": "code",
      "metadata": {
        "id": "UMFJnGu6y271",
        "colab_type": "code",
        "colab": {}
      },
      "source": [
        ""
      ],
      "execution_count": 0,
      "outputs": []
    }
  ]
}
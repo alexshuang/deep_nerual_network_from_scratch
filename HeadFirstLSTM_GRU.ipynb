{
  "nbformat": 4,
  "nbformat_minor": 0,
  "metadata": {
    "kernelspec": {
      "name": "python3",
      "display_name": "Python 3"
    },
    "language_info": {
      "codemirror_mode": {
        "name": "ipython",
        "version": 3
      },
      "file_extension": ".py",
      "mimetype": "text/x-python",
      "name": "python",
      "nbconvert_exporter": "python",
      "pygments_lexer": "ipython3",
      "version": "3.7.1"
    },
    "colab": {
      "name": "HeadFirstLSTM_GRU.ipynb",
      "provenance": [],
      "collapsed_sections": [
        "5iS4iqWKgJzR"
      ]
    },
    "accelerator": "GPU"
  },
  "cells": [
    {
      "cell_type": "markdown",
      "metadata": {
        "id": "eBOEit_GgJwM",
        "colab_type": "text"
      },
      "source": [
        "# Predicting English word version of numbers using LSTM & GRU"
      ]
    },
    {
      "cell_type": "markdown",
      "metadata": {
        "id": "DxQ30yEIgJwR",
        "colab_type": "text"
      },
      "source": [
        "## Data"
      ]
    },
    {
      "cell_type": "code",
      "metadata": {
        "id": "luW02YOTgJwS",
        "colab_type": "code",
        "colab": {}
      },
      "source": [
        "from fastai.text import *\n",
        "import pdb"
      ],
      "execution_count": 0,
      "outputs": []
    },
    {
      "cell_type": "code",
      "metadata": {
        "id": "i5_sNlsqgJwV",
        "colab_type": "code",
        "colab": {}
      },
      "source": [
        "bs=64"
      ],
      "execution_count": 0,
      "outputs": []
    },
    {
      "cell_type": "code",
      "metadata": {
        "id": "o5nN8YwvgJwY",
        "colab_type": "code",
        "outputId": "7426b2db-1914-47a6-cacd-c8ac4ff0dc3c",
        "colab": {
          "base_uri": "https://localhost:8080/",
          "height": 50
        }
      },
      "source": [
        "path = untar_data(URLs.HUMAN_NUMBERS)\n",
        "path.ls()"
      ],
      "execution_count": 3,
      "outputs": [
        {
          "output_type": "execute_result",
          "data": {
            "text/plain": [
              "[PosixPath('/root/.fastai/data/human_numbers/valid.txt'),\n",
              " PosixPath('/root/.fastai/data/human_numbers/train.txt')]"
            ]
          },
          "metadata": {
            "tags": []
          },
          "execution_count": 3
        }
      ]
    },
    {
      "cell_type": "code",
      "metadata": {
        "id": "cf4-a67lgJwc",
        "colab_type": "code",
        "colab": {}
      },
      "source": [
        "def readnums(d): return [', '.join(o.strip() for o in open(path/d).readlines())]"
      ],
      "execution_count": 0,
      "outputs": []
    },
    {
      "cell_type": "markdown",
      "metadata": {
        "id": "Ec0cKxTGgJwf",
        "colab_type": "text"
      },
      "source": [
        "train.txt gives us a sequence of numbers written out as English words:"
      ]
    },
    {
      "cell_type": "code",
      "metadata": {
        "id": "GscWnmuKgJwg",
        "colab_type": "code",
        "outputId": "a19d6ffb-21b9-44c7-bb25-4d09c95cf347",
        "colab": {
          "base_uri": "https://localhost:8080/",
          "height": 34
        }
      },
      "source": [
        "train_txt = readnums('train.txt'); train_txt[0][:80]"
      ],
      "execution_count": 5,
      "outputs": [
        {
          "output_type": "execute_result",
          "data": {
            "text/plain": [
              "'one, two, three, four, five, six, seven, eight, nine, ten, eleven, twelve, thirt'"
            ]
          },
          "metadata": {
            "tags": []
          },
          "execution_count": 5
        }
      ]
    },
    {
      "cell_type": "code",
      "metadata": {
        "id": "wdt2u_Q_gJwj",
        "colab_type": "code",
        "outputId": "96f2768d-3f80-41e5-c52e-a46593a9519d",
        "colab": {
          "base_uri": "https://localhost:8080/",
          "height": 34
        }
      },
      "source": [
        "valid_txt = readnums('valid.txt'); valid_txt[0][-80:]"
      ],
      "execution_count": 6,
      "outputs": [
        {
          "output_type": "execute_result",
          "data": {
            "text/plain": [
              "' nine thousand nine hundred ninety eight, nine thousand nine hundred ninety nine'"
            ]
          },
          "metadata": {
            "tags": []
          },
          "execution_count": 6
        }
      ]
    },
    {
      "cell_type": "code",
      "metadata": {
        "id": "VMpUPMTdgdDW",
        "colab_type": "code",
        "outputId": "9ada7def-f5a9-47d4-a05e-f91632320a63",
        "colab": {
          "base_uri": "https://localhost:8080/",
          "height": 17
        }
      },
      "source": [
        "train = TextList(train_txt, path=path)\n",
        "valid = TextList(valid_txt, path=path)\n",
        "src = ItemLists(path, train, valid).label_for_lm()"
      ],
      "execution_count": 7,
      "outputs": [
        {
          "output_type": "display_data",
          "data": {
            "text/html": [
              ""
            ],
            "text/plain": [
              "<IPython.core.display.HTML object>"
            ]
          },
          "metadata": {
            "tags": []
          }
        },
        {
          "output_type": "display_data",
          "data": {
            "text/html": [
              ""
            ],
            "text/plain": [
              "<IPython.core.display.HTML object>"
            ]
          },
          "metadata": {
            "tags": []
          }
        }
      ]
    },
    {
      "cell_type": "code",
      "metadata": {
        "id": "-LAwVeOc_liq",
        "colab_type": "code",
        "colab": {}
      },
      "source": [
        "wordvec_len = 100\n",
        "nh = 64\n",
        "bptt = 20\n",
        "data = src.databunch(bs=bs, bptt=bptt)\n",
        "nv = len(data.train_ds.vocab.itos)"
      ],
      "execution_count": 0,
      "outputs": []
    },
    {
      "cell_type": "markdown",
      "metadata": {
        "id": "fiPOlPU35VBf",
        "colab_type": "text"
      },
      "source": [
        "## nn.LSTM"
      ]
    },
    {
      "cell_type": "code",
      "metadata": {
        "id": "K8RH4naK5q3f",
        "colab_type": "code",
        "colab": {}
      },
      "source": [
        "??nn.LSTM()"
      ],
      "execution_count": 0,
      "outputs": []
    },
    {
      "cell_type": "code",
      "metadata": {
        "id": "tajxMtnW5XNv",
        "colab_type": "code",
        "colab": {}
      },
      "source": [
        "class Model5(nn.Module):\n",
        "  def __init__(self):\n",
        "    super().__init__()\n",
        "    self.emb = nn.Embedding(nv, wordvec_len)\n",
        "    self.input = nn.Linear(wordvec_len, nh)\n",
        "    self.rnn = nn.LSTM(nh, nh, 1, batch_first=True)\n",
        "    self.out = nn.Linear(nh, nv)\n",
        "    self.bn = BatchNorm1dFlat(nh)\n",
        "    self.h = torch.zeros(1, bs, nh).cuda()\n",
        "    self.c = torch.zeros(1, bs, nh).cuda()\n",
        "  \n",
        "  def forward(self, x):\n",
        "    res, (h, c) = self.rnn(self.input(self.emb(x)), (self.h, self.c))\n",
        "    self.h = h.detach()\n",
        "    self.c = c.detach()\n",
        "    return self.out(self.bn(res))"
      ],
      "execution_count": 0,
      "outputs": []
    },
    {
      "cell_type": "code",
      "metadata": {
        "id": "0vxf_iqw5XRJ",
        "colab_type": "code",
        "colab": {
          "base_uri": "https://localhost:8080/",
          "height": 343
        },
        "outputId": "2cae0114-032e-4117-a613-ca5919896b33"
      },
      "source": [
        "learn = Learner(data, Model5(), metrics=accuracy)\n",
        "learn.fit_one_cycle(10, 1e-2)"
      ],
      "execution_count": 28,
      "outputs": [
        {
          "output_type": "display_data",
          "data": {
            "text/html": [
              "<table border=\"1\" class=\"dataframe\">\n",
              "  <thead>\n",
              "    <tr style=\"text-align: left;\">\n",
              "      <th>epoch</th>\n",
              "      <th>train_loss</th>\n",
              "      <th>valid_loss</th>\n",
              "      <th>accuracy</th>\n",
              "      <th>time</th>\n",
              "    </tr>\n",
              "  </thead>\n",
              "  <tbody>\n",
              "    <tr>\n",
              "      <td>0</td>\n",
              "      <td>2.532648</td>\n",
              "      <td>2.220782</td>\n",
              "      <td>0.369247</td>\n",
              "      <td>00:00</td>\n",
              "    </tr>\n",
              "    <tr>\n",
              "      <td>1</td>\n",
              "      <td>1.800844</td>\n",
              "      <td>1.938452</td>\n",
              "      <td>0.466832</td>\n",
              "      <td>00:00</td>\n",
              "    </tr>\n",
              "    <tr>\n",
              "      <td>2</td>\n",
              "      <td>1.415609</td>\n",
              "      <td>1.785361</td>\n",
              "      <td>0.530114</td>\n",
              "      <td>00:00</td>\n",
              "    </tr>\n",
              "    <tr>\n",
              "      <td>3</td>\n",
              "      <td>0.969480</td>\n",
              "      <td>1.767252</td>\n",
              "      <td>0.665128</td>\n",
              "      <td>00:00</td>\n",
              "    </tr>\n",
              "    <tr>\n",
              "      <td>4</td>\n",
              "      <td>0.553732</td>\n",
              "      <td>1.824781</td>\n",
              "      <td>0.738991</td>\n",
              "      <td>00:00</td>\n",
              "    </tr>\n",
              "    <tr>\n",
              "      <td>5</td>\n",
              "      <td>0.299017</td>\n",
              "      <td>1.663509</td>\n",
              "      <td>0.790980</td>\n",
              "      <td>00:00</td>\n",
              "    </tr>\n",
              "    <tr>\n",
              "      <td>6</td>\n",
              "      <td>0.165372</td>\n",
              "      <td>1.517420</td>\n",
              "      <td>0.802131</td>\n",
              "      <td>00:00</td>\n",
              "    </tr>\n",
              "    <tr>\n",
              "      <td>7</td>\n",
              "      <td>0.096482</td>\n",
              "      <td>1.465203</td>\n",
              "      <td>0.803835</td>\n",
              "      <td>00:00</td>\n",
              "    </tr>\n",
              "    <tr>\n",
              "      <td>8</td>\n",
              "      <td>0.060338</td>\n",
              "      <td>1.486027</td>\n",
              "      <td>0.812358</td>\n",
              "      <td>00:00</td>\n",
              "    </tr>\n",
              "    <tr>\n",
              "      <td>9</td>\n",
              "      <td>0.042380</td>\n",
              "      <td>1.465330</td>\n",
              "      <td>0.808168</td>\n",
              "      <td>00:00</td>\n",
              "    </tr>\n",
              "  </tbody>\n",
              "</table>"
            ],
            "text/plain": [
              "<IPython.core.display.HTML object>"
            ]
          },
          "metadata": {
            "tags": []
          }
        }
      ]
    },
    {
      "cell_type": "markdown",
      "metadata": {
        "id": "HdMmpVdo7mPg",
        "colab_type": "text"
      },
      "source": [
        "## nn.LSTMCell"
      ]
    },
    {
      "cell_type": "code",
      "metadata": {
        "id": "G3da2-Gt7ln3",
        "colab_type": "code",
        "colab": {}
      },
      "source": [
        "??nn.LSTMCell"
      ],
      "execution_count": 0,
      "outputs": []
    },
    {
      "cell_type": "code",
      "metadata": {
        "id": "vKOnaAP870ov",
        "colab_type": "code",
        "colab": {}
      },
      "source": [
        "def lstm_loop(cell, x, h):\n",
        "  hx, cx = [], []\n",
        "  h, c = h\n",
        "  for o in x.transpose(0, 1): # time loop\n",
        "    h, c = cell(o, (h, c))\n",
        "    hx.append(h)\n",
        "    cx.append(c)\n",
        "  # reset shape: [batch, time, hidden size]\n",
        "  return [torch.stack(hx, dim=1), torch.stack(cx, dim=1)]\n",
        "\n",
        "class Model6(Model5):\n",
        "  def __init__(self):\n",
        "    super().__init__()\n",
        "    self.h = torch.zeros(bs, nh).cuda()\n",
        "    self.c = torch.zeros(bs, nh).cuda()\n",
        "    self.cell = nn.LSTMCell(nh, nh)\n",
        "\n",
        "  def forward(self, x):\n",
        "    x = F.relu(self.input(self.emb(x)))\n",
        "    h, c = lstm_loop(self.cell, x, (self.h, self.c))\n",
        "    self.h = h[:, -1].detach()\n",
        "    self.c = c[:, -1].detach()\n",
        "    return self.out(self.bn(h))"
      ],
      "execution_count": 0,
      "outputs": []
    },
    {
      "cell_type": "code",
      "metadata": {
        "id": "_UQ5GWlZ70sO",
        "colab_type": "code",
        "colab": {
          "base_uri": "https://localhost:8080/",
          "height": 343
        },
        "outputId": "70f8c1cb-3165-42ad-ede2-52873c182dc7"
      },
      "source": [
        "learn = Learner(data, Model6(), metrics=accuracy)\n",
        "learn.fit_one_cycle(10, 1e-2)"
      ],
      "execution_count": 73,
      "outputs": [
        {
          "output_type": "display_data",
          "data": {
            "text/html": [
              "<table border=\"1\" class=\"dataframe\">\n",
              "  <thead>\n",
              "    <tr style=\"text-align: left;\">\n",
              "      <th>epoch</th>\n",
              "      <th>train_loss</th>\n",
              "      <th>valid_loss</th>\n",
              "      <th>accuracy</th>\n",
              "      <th>time</th>\n",
              "    </tr>\n",
              "  </thead>\n",
              "  <tbody>\n",
              "    <tr>\n",
              "      <td>0</td>\n",
              "      <td>2.480802</td>\n",
              "      <td>2.253954</td>\n",
              "      <td>0.457386</td>\n",
              "      <td>00:00</td>\n",
              "    </tr>\n",
              "    <tr>\n",
              "      <td>1</td>\n",
              "      <td>1.787680</td>\n",
              "      <td>2.049083</td>\n",
              "      <td>0.342188</td>\n",
              "      <td>00:00</td>\n",
              "    </tr>\n",
              "    <tr>\n",
              "      <td>2</td>\n",
              "      <td>1.413622</td>\n",
              "      <td>1.818817</td>\n",
              "      <td>0.534091</td>\n",
              "      <td>00:00</td>\n",
              "    </tr>\n",
              "    <tr>\n",
              "      <td>3</td>\n",
              "      <td>0.916679</td>\n",
              "      <td>1.414720</td>\n",
              "      <td>0.710156</td>\n",
              "      <td>00:00</td>\n",
              "    </tr>\n",
              "    <tr>\n",
              "      <td>4</td>\n",
              "      <td>0.488267</td>\n",
              "      <td>1.304279</td>\n",
              "      <td>0.800071</td>\n",
              "      <td>00:00</td>\n",
              "    </tr>\n",
              "    <tr>\n",
              "      <td>5</td>\n",
              "      <td>0.253496</td>\n",
              "      <td>1.146594</td>\n",
              "      <td>0.803835</td>\n",
              "      <td>00:00</td>\n",
              "    </tr>\n",
              "    <tr>\n",
              "      <td>6</td>\n",
              "      <td>0.138924</td>\n",
              "      <td>1.145488</td>\n",
              "      <td>0.814418</td>\n",
              "      <td>00:00</td>\n",
              "    </tr>\n",
              "    <tr>\n",
              "      <td>7</td>\n",
              "      <td>0.081460</td>\n",
              "      <td>1.144085</td>\n",
              "      <td>0.819460</td>\n",
              "      <td>00:00</td>\n",
              "    </tr>\n",
              "    <tr>\n",
              "      <td>8</td>\n",
              "      <td>0.052895</td>\n",
              "      <td>1.114757</td>\n",
              "      <td>0.818892</td>\n",
              "      <td>00:00</td>\n",
              "    </tr>\n",
              "    <tr>\n",
              "      <td>9</td>\n",
              "      <td>0.038850</td>\n",
              "      <td>1.144648</td>\n",
              "      <td>0.816619</td>\n",
              "      <td>00:00</td>\n",
              "    </tr>\n",
              "  </tbody>\n",
              "</table>"
            ],
            "text/plain": [
              "<IPython.core.display.HTML object>"
            ]
          },
          "metadata": {
            "tags": []
          }
        }
      ]
    },
    {
      "cell_type": "markdown",
      "metadata": {
        "id": "sUz3Iw5YVu7e",
        "colab_type": "text"
      },
      "source": [
        "## Custom LSTMCell"
      ]
    },
    {
      "cell_type": "markdown",
      "metadata": {
        "id": "c5IKVWvKdZtj",
        "colab_type": "text"
      },
      "source": [
        "Rebuild LSTMCell"
      ]
    },
    {
      "cell_type": "markdown",
      "metadata": {
        "colab_type": "text",
        "id": "cFsAODuacguv"
      },
      "source": [
        "The following some code come from [emadRad](https://github.com/emadRad/lstm-gru-pytorch/blob/master/lstm_gru.ipynb):"
      ]
    },
    {
      "cell_type": "code",
      "metadata": {
        "id": "n8lFMvYcVuM7",
        "colab_type": "code",
        "colab": {}
      },
      "source": [
        "class LSTMCell(nn.Module):\n",
        "  def __init__(self, nin, nh):\n",
        "    super().__init__()\n",
        "    self.lin_x = nn.Linear(nin, 4 * nh)\n",
        "    self.lin_h = nn.Linear(nh, 4 * nh)\n",
        "\n",
        "  def forward(self, x, hc):\n",
        "    h, c = hc\n",
        "    _x = self.lin_x(x)\n",
        "    _h = self.lin_h(h)\n",
        "    x_i, x_f, x_o, x_g = _x.chunk(4, dim=1)\n",
        "    h_i, h_f, h_o, h_g = _h.chunk(4, dim=1)\n",
        "    i = torch.sigmoid(x_i + h_i)\n",
        "    f = torch.sigmoid(x_f + h_f)\n",
        "    o = torch.sigmoid(x_o + h_o)\n",
        "    g = torch.tanh(x_g + h_g)\n",
        "    c_hat = f * c + i * g\n",
        "    h_hat = o * torch.tanh(c_hat)\n",
        "    return (h_hat, c_hat)"
      ],
      "execution_count": 0,
      "outputs": []
    },
    {
      "cell_type": "code",
      "metadata": {
        "id": "0k7K2WpiVznk",
        "colab_type": "code",
        "colab": {}
      },
      "source": [
        "class Model6(Model5):\n",
        "  def __init__(self):\n",
        "    super().__init__()\n",
        "    self.h = torch.zeros(bs, nh).cuda()\n",
        "    self.c = torch.zeros(bs, nh).cuda()\n",
        "    self.cell = LSTMCell(nh, nh)\n",
        "\n",
        "  def forward(self, x):\n",
        "    x = F.relu(self.input(self.emb(x)))\n",
        "    h, c = lstm_loop(self.cell, x, (self.h, self.c))\n",
        "    self.h = h[:, -1].detach()\n",
        "    self.c = c[:, -1].detach()\n",
        "    return self.out(self.bn(h))"
      ],
      "execution_count": 0,
      "outputs": []
    },
    {
      "cell_type": "code",
      "metadata": {
        "id": "93i_xsU3VzrD",
        "colab_type": "code",
        "colab": {
          "base_uri": "https://localhost:8080/",
          "height": 343
        },
        "outputId": "7bb1ae11-85e9-4422-a2ce-e9d984ac38c1"
      },
      "source": [
        "learn = Learner(data, Model6(), metrics=accuracy)\n",
        "learn.fit_one_cycle(10, 1e-2)"
      ],
      "execution_count": 80,
      "outputs": [
        {
          "output_type": "display_data",
          "data": {
            "text/html": [
              "<table border=\"1\" class=\"dataframe\">\n",
              "  <thead>\n",
              "    <tr style=\"text-align: left;\">\n",
              "      <th>epoch</th>\n",
              "      <th>train_loss</th>\n",
              "      <th>valid_loss</th>\n",
              "      <th>accuracy</th>\n",
              "      <th>time</th>\n",
              "    </tr>\n",
              "  </thead>\n",
              "  <tbody>\n",
              "    <tr>\n",
              "      <td>0</td>\n",
              "      <td>2.550474</td>\n",
              "      <td>2.243888</td>\n",
              "      <td>0.439631</td>\n",
              "      <td>00:00</td>\n",
              "    </tr>\n",
              "    <tr>\n",
              "      <td>1</td>\n",
              "      <td>1.786658</td>\n",
              "      <td>1.960842</td>\n",
              "      <td>0.481179</td>\n",
              "      <td>00:00</td>\n",
              "    </tr>\n",
              "    <tr>\n",
              "      <td>2</td>\n",
              "      <td>1.362301</td>\n",
              "      <td>1.657263</td>\n",
              "      <td>0.563707</td>\n",
              "      <td>00:00</td>\n",
              "    </tr>\n",
              "    <tr>\n",
              "      <td>3</td>\n",
              "      <td>0.884290</td>\n",
              "      <td>1.556831</td>\n",
              "      <td>0.716690</td>\n",
              "      <td>00:00</td>\n",
              "    </tr>\n",
              "    <tr>\n",
              "      <td>4</td>\n",
              "      <td>0.487119</td>\n",
              "      <td>1.466396</td>\n",
              "      <td>0.796307</td>\n",
              "      <td>00:00</td>\n",
              "    </tr>\n",
              "    <tr>\n",
              "      <td>5</td>\n",
              "      <td>0.257691</td>\n",
              "      <td>1.437768</td>\n",
              "      <td>0.809517</td>\n",
              "      <td>00:00</td>\n",
              "    </tr>\n",
              "    <tr>\n",
              "      <td>6</td>\n",
              "      <td>0.142321</td>\n",
              "      <td>1.408627</td>\n",
              "      <td>0.811861</td>\n",
              "      <td>00:00</td>\n",
              "    </tr>\n",
              "    <tr>\n",
              "      <td>7</td>\n",
              "      <td>0.083653</td>\n",
              "      <td>1.460158</td>\n",
              "      <td>0.811080</td>\n",
              "      <td>00:00</td>\n",
              "    </tr>\n",
              "    <tr>\n",
              "      <td>8</td>\n",
              "      <td>0.053673</td>\n",
              "      <td>1.502342</td>\n",
              "      <td>0.813565</td>\n",
              "      <td>00:00</td>\n",
              "    </tr>\n",
              "    <tr>\n",
              "      <td>9</td>\n",
              "      <td>0.038856</td>\n",
              "      <td>1.502961</td>\n",
              "      <td>0.812500</td>\n",
              "      <td>00:00</td>\n",
              "    </tr>\n",
              "  </tbody>\n",
              "</table>"
            ],
            "text/plain": [
              "<IPython.core.display.HTML object>"
            ]
          },
          "metadata": {
            "tags": []
          }
        }
      ]
    },
    {
      "cell_type": "markdown",
      "metadata": {
        "id": "i9_28v_8gJzK",
        "colab_type": "text"
      },
      "source": [
        "## nn.GRU"
      ]
    },
    {
      "cell_type": "code",
      "metadata": {
        "id": "VyM-QyTHe5SK",
        "colab_type": "code",
        "colab": {}
      },
      "source": [
        "class Model7(nn.Module):\n",
        "  def __init__(self):\n",
        "    super().__init__()\n",
        "    self.emb = nn.Embedding(nv, wordvec_len)\n",
        "    self.input = nn.Linear(wordvec_len, nh)\n",
        "    self.rnn = nn.GRU(nh, nh, 1, batch_first=True)\n",
        "    self.out = nn.Linear(nh, nv)\n",
        "    self.bn = BatchNorm1dFlat(nh)\n",
        "    self.h = torch.zeros(1, bs, nh).cuda()\n",
        "  \n",
        "  def forward(self, x):\n",
        "    res, h = self.rnn(self.input(self.emb(x)), self.h)\n",
        "    self.h = h.detach()\n",
        "    return self.out(self.bn(res))"
      ],
      "execution_count": 0,
      "outputs": []
    },
    {
      "cell_type": "code",
      "metadata": {
        "id": "6sJlIUxDfAFx",
        "colab_type": "code",
        "outputId": "24b232a5-21de-4060-b275-daf6618802cc",
        "colab": {
          "base_uri": "https://localhost:8080/",
          "height": 343
        }
      },
      "source": [
        "learn = Learner(data, Model7(), metrics=accuracy)\n",
        "learn.fit_one_cycle(10, 1e-2)"
      ],
      "execution_count": 82,
      "outputs": [
        {
          "output_type": "display_data",
          "data": {
            "text/html": [
              "<table border=\"1\" class=\"dataframe\">\n",
              "  <thead>\n",
              "    <tr style=\"text-align: left;\">\n",
              "      <th>epoch</th>\n",
              "      <th>train_loss</th>\n",
              "      <th>valid_loss</th>\n",
              "      <th>accuracy</th>\n",
              "      <th>time</th>\n",
              "    </tr>\n",
              "  </thead>\n",
              "  <tbody>\n",
              "    <tr>\n",
              "      <td>0</td>\n",
              "      <td>2.603830</td>\n",
              "      <td>2.105865</td>\n",
              "      <td>0.452983</td>\n",
              "      <td>00:00</td>\n",
              "    </tr>\n",
              "    <tr>\n",
              "      <td>1</td>\n",
              "      <td>1.815322</td>\n",
              "      <td>1.835269</td>\n",
              "      <td>0.470099</td>\n",
              "      <td>00:00</td>\n",
              "    </tr>\n",
              "    <tr>\n",
              "      <td>2</td>\n",
              "      <td>1.474217</td>\n",
              "      <td>1.965154</td>\n",
              "      <td>0.546662</td>\n",
              "      <td>00:00</td>\n",
              "    </tr>\n",
              "    <tr>\n",
              "      <td>3</td>\n",
              "      <td>1.137250</td>\n",
              "      <td>2.210357</td>\n",
              "      <td>0.592188</td>\n",
              "      <td>00:00</td>\n",
              "    </tr>\n",
              "    <tr>\n",
              "      <td>4</td>\n",
              "      <td>0.748916</td>\n",
              "      <td>2.343477</td>\n",
              "      <td>0.690696</td>\n",
              "      <td>00:00</td>\n",
              "    </tr>\n",
              "    <tr>\n",
              "      <td>5</td>\n",
              "      <td>0.437230</td>\n",
              "      <td>1.932745</td>\n",
              "      <td>0.764560</td>\n",
              "      <td>00:00</td>\n",
              "    </tr>\n",
              "    <tr>\n",
              "      <td>6</td>\n",
              "      <td>0.247734</td>\n",
              "      <td>1.799907</td>\n",
              "      <td>0.804332</td>\n",
              "      <td>00:00</td>\n",
              "    </tr>\n",
              "    <tr>\n",
              "      <td>7</td>\n",
              "      <td>0.145794</td>\n",
              "      <td>1.692037</td>\n",
              "      <td>0.810511</td>\n",
              "      <td>00:00</td>\n",
              "    </tr>\n",
              "    <tr>\n",
              "      <td>8</td>\n",
              "      <td>0.092598</td>\n",
              "      <td>1.702543</td>\n",
              "      <td>0.805824</td>\n",
              "      <td>00:00</td>\n",
              "    </tr>\n",
              "    <tr>\n",
              "      <td>9</td>\n",
              "      <td>0.065691</td>\n",
              "      <td>1.729235</td>\n",
              "      <td>0.807386</td>\n",
              "      <td>00:00</td>\n",
              "    </tr>\n",
              "  </tbody>\n",
              "</table>"
            ],
            "text/plain": [
              "<IPython.core.display.HTML object>"
            ]
          },
          "metadata": {
            "tags": []
          }
        }
      ]
    },
    {
      "cell_type": "markdown",
      "metadata": {
        "id": "AcA54fr2BSC5",
        "colab_type": "text"
      },
      "source": [
        "## nn.GRUCell"
      ]
    },
    {
      "cell_type": "markdown",
      "metadata": {
        "id": "3DCQK7TcBizd",
        "colab_type": "text"
      },
      "source": [
        "Rebuild GRUCell"
      ]
    },
    {
      "cell_type": "code",
      "metadata": {
        "id": "ZiEhtk78HFA2",
        "colab_type": "code",
        "colab": {}
      },
      "source": [
        "def gru_loop(gru_cell, x, h):\n",
        "  res = []\n",
        "  for o in x.transpose(0, 1): # loop very time\n",
        "    h = gru_cell(o, h)\n",
        "    res.append(h)\n",
        "  return torch.stack(res, dim=1) # reset shape: [batch, time, hidden size]\n",
        "\n",
        "class Model8(Model7):\n",
        "  def __init__(self):\n",
        "    super().__init__()\n",
        "    self.h = torch.zeros(bs, nh).cuda()\n",
        "    self.cell = nn.GRUCell(nh, nh)\n",
        "\n",
        "  def forward(self, x):\n",
        "    x = F.relu(self.input(self.emb(x)))\n",
        "    h = gru_loop(self.cell, x, self.h)\n",
        "    self.h = h[:, -1].detach()\n",
        "    return self.out(self.bn(h))"
      ],
      "execution_count": 0,
      "outputs": []
    },
    {
      "cell_type": "code",
      "metadata": {
        "id": "9uCNDA7sHFH0",
        "colab_type": "code",
        "outputId": "ef041104-f659-4bbb-f04f-77d04bd10cea",
        "colab": {
          "base_uri": "https://localhost:8080/",
          "height": 343
        }
      },
      "source": [
        "learn = Learner(data, Model8(), metrics=accuracy)\n",
        "learn.fit_one_cycle(10, 1e-2)"
      ],
      "execution_count": 84,
      "outputs": [
        {
          "output_type": "display_data",
          "data": {
            "text/html": [
              "<table border=\"1\" class=\"dataframe\">\n",
              "  <thead>\n",
              "    <tr style=\"text-align: left;\">\n",
              "      <th>epoch</th>\n",
              "      <th>train_loss</th>\n",
              "      <th>valid_loss</th>\n",
              "      <th>accuracy</th>\n",
              "      <th>time</th>\n",
              "    </tr>\n",
              "  </thead>\n",
              "  <tbody>\n",
              "    <tr>\n",
              "      <td>0</td>\n",
              "      <td>2.522522</td>\n",
              "      <td>2.189934</td>\n",
              "      <td>0.377273</td>\n",
              "      <td>00:00</td>\n",
              "    </tr>\n",
              "    <tr>\n",
              "      <td>1</td>\n",
              "      <td>1.776763</td>\n",
              "      <td>1.806160</td>\n",
              "      <td>0.494247</td>\n",
              "      <td>00:00</td>\n",
              "    </tr>\n",
              "    <tr>\n",
              "      <td>2</td>\n",
              "      <td>1.272303</td>\n",
              "      <td>1.613085</td>\n",
              "      <td>0.612713</td>\n",
              "      <td>00:00</td>\n",
              "    </tr>\n",
              "    <tr>\n",
              "      <td>3</td>\n",
              "      <td>0.723430</td>\n",
              "      <td>1.423613</td>\n",
              "      <td>0.739062</td>\n",
              "      <td>00:00</td>\n",
              "    </tr>\n",
              "    <tr>\n",
              "      <td>4</td>\n",
              "      <td>0.384734</td>\n",
              "      <td>1.463009</td>\n",
              "      <td>0.779688</td>\n",
              "      <td>00:00</td>\n",
              "    </tr>\n",
              "    <tr>\n",
              "      <td>5</td>\n",
              "      <td>0.209081</td>\n",
              "      <td>1.550395</td>\n",
              "      <td>0.792045</td>\n",
              "      <td>00:00</td>\n",
              "    </tr>\n",
              "    <tr>\n",
              "      <td>6</td>\n",
              "      <td>0.120361</td>\n",
              "      <td>1.631862</td>\n",
              "      <td>0.783452</td>\n",
              "      <td>00:00</td>\n",
              "    </tr>\n",
              "    <tr>\n",
              "      <td>7</td>\n",
              "      <td>0.074887</td>\n",
              "      <td>1.622585</td>\n",
              "      <td>0.795170</td>\n",
              "      <td>00:00</td>\n",
              "    </tr>\n",
              "    <tr>\n",
              "      <td>8</td>\n",
              "      <td>0.051117</td>\n",
              "      <td>1.648417</td>\n",
              "      <td>0.787784</td>\n",
              "      <td>00:00</td>\n",
              "    </tr>\n",
              "    <tr>\n",
              "      <td>9</td>\n",
              "      <td>0.039105</td>\n",
              "      <td>1.590964</td>\n",
              "      <td>0.790199</td>\n",
              "      <td>00:00</td>\n",
              "    </tr>\n",
              "  </tbody>\n",
              "</table>"
            ],
            "text/plain": [
              "<IPython.core.display.HTML object>"
            ]
          },
          "metadata": {
            "tags": []
          }
        }
      ]
    },
    {
      "cell_type": "markdown",
      "metadata": {
        "id": "TT-uiXkdSpG6",
        "colab_type": "text"
      },
      "source": [
        "## Custom GRUCell"
      ]
    },
    {
      "cell_type": "markdown",
      "metadata": {
        "id": "-luu7qXFcpIV",
        "colab_type": "text"
      },
      "source": [
        "Rebuild GRUCell"
      ]
    },
    {
      "cell_type": "code",
      "metadata": {
        "id": "cTPqf0qVa__f",
        "colab_type": "code",
        "colab": {}
      },
      "source": [
        "??nn.GRUCell"
      ],
      "execution_count": 0,
      "outputs": []
    },
    {
      "cell_type": "code",
      "metadata": {
        "id": "6aecFO2yHFN6",
        "colab_type": "code",
        "colab": {}
      },
      "source": [
        "class GRUCell(nn.Module):\n",
        "  def __init__(self, nin, nh):\n",
        "    super().__init__()\n",
        "    self.lin_x = nn.Linear(nin, 3 * nh)\n",
        "    self.lin_h = nn.Linear(nh, 3 * nh)\n",
        "\n",
        "  def forward(self, x, h):\n",
        "    _x = self.lin_x(x)\n",
        "    _h = self.lin_h(h)\n",
        "    ir, iz, xin = _x.chunk(3, dim=1)\n",
        "    hr, hz, hn = _h.chunk(3, dim=1)\n",
        "    r = torch.sigmoid(ir + hr)  # reset gate\n",
        "    z = torch.sigmoid(iz + hz)  # update gate\n",
        "    n = torch.tanh(xin + r * hn)  # new gate\n",
        "    h_hat = (1 - z) * n + (z * h)\n",
        "    return h_hat"
      ],
      "execution_count": 0,
      "outputs": []
    },
    {
      "cell_type": "code",
      "metadata": {
        "id": "m1pmPy7_lZBw",
        "colab_type": "code",
        "colab": {}
      },
      "source": [
        "class Model8(Model7):\n",
        "  def __init__(self):\n",
        "    super().__init__()\n",
        "    self.h = torch.zeros(bs, nh).cuda()\n",
        "    self.cell = GRUCell(nh, nh)\n",
        "\n",
        "  def forward(self, x):\n",
        "    x = F.relu(self.input(self.emb(x)))\n",
        "    h = gru_loop(self.cell, x, self.h)\n",
        "    self.h = h[:, -1].detach()\n",
        "    return self.out(self.bn(h))"
      ],
      "execution_count": 0,
      "outputs": []
    },
    {
      "cell_type": "code",
      "metadata": {
        "id": "TqdOFIL1r8Km",
        "colab_type": "code",
        "colab": {
          "base_uri": "https://localhost:8080/",
          "height": 343
        },
        "outputId": "7fe7f9f4-93d4-4cc9-b2a3-aab23417261c"
      },
      "source": [
        "learn = Learner(data, Model8(), metrics=accuracy)\n",
        "learn.fit_one_cycle(10, 1e-2)"
      ],
      "execution_count": 88,
      "outputs": [
        {
          "output_type": "display_data",
          "data": {
            "text/html": [
              "<table border=\"1\" class=\"dataframe\">\n",
              "  <thead>\n",
              "    <tr style=\"text-align: left;\">\n",
              "      <th>epoch</th>\n",
              "      <th>train_loss</th>\n",
              "      <th>valid_loss</th>\n",
              "      <th>accuracy</th>\n",
              "      <th>time</th>\n",
              "    </tr>\n",
              "  </thead>\n",
              "  <tbody>\n",
              "    <tr>\n",
              "      <td>0</td>\n",
              "      <td>2.610216</td>\n",
              "      <td>2.169208</td>\n",
              "      <td>0.459730</td>\n",
              "      <td>00:00</td>\n",
              "    </tr>\n",
              "    <tr>\n",
              "      <td>1</td>\n",
              "      <td>1.814095</td>\n",
              "      <td>1.821466</td>\n",
              "      <td>0.418253</td>\n",
              "      <td>00:00</td>\n",
              "    </tr>\n",
              "    <tr>\n",
              "      <td>2</td>\n",
              "      <td>1.340642</td>\n",
              "      <td>1.814949</td>\n",
              "      <td>0.580256</td>\n",
              "      <td>00:00</td>\n",
              "    </tr>\n",
              "    <tr>\n",
              "      <td>3</td>\n",
              "      <td>0.823776</td>\n",
              "      <td>1.249176</td>\n",
              "      <td>0.748722</td>\n",
              "      <td>00:00</td>\n",
              "    </tr>\n",
              "    <tr>\n",
              "      <td>4</td>\n",
              "      <td>0.453387</td>\n",
              "      <td>1.306421</td>\n",
              "      <td>0.807742</td>\n",
              "      <td>00:00</td>\n",
              "    </tr>\n",
              "    <tr>\n",
              "      <td>5</td>\n",
              "      <td>0.249834</td>\n",
              "      <td>1.450365</td>\n",
              "      <td>0.807670</td>\n",
              "      <td>00:00</td>\n",
              "    </tr>\n",
              "    <tr>\n",
              "      <td>6</td>\n",
              "      <td>0.142717</td>\n",
              "      <td>1.255891</td>\n",
              "      <td>0.818466</td>\n",
              "      <td>00:00</td>\n",
              "    </tr>\n",
              "    <tr>\n",
              "      <td>7</td>\n",
              "      <td>0.086801</td>\n",
              "      <td>1.308531</td>\n",
              "      <td>0.821023</td>\n",
              "      <td>00:00</td>\n",
              "    </tr>\n",
              "    <tr>\n",
              "      <td>8</td>\n",
              "      <td>0.057675</td>\n",
              "      <td>1.356536</td>\n",
              "      <td>0.817187</td>\n",
              "      <td>00:00</td>\n",
              "    </tr>\n",
              "    <tr>\n",
              "      <td>9</td>\n",
              "      <td>0.042296</td>\n",
              "      <td>1.293155</td>\n",
              "      <td>0.818253</td>\n",
              "      <td>00:00</td>\n",
              "    </tr>\n",
              "  </tbody>\n",
              "</table>"
            ],
            "text/plain": [
              "<IPython.core.display.HTML object>"
            ]
          },
          "metadata": {
            "tags": []
          }
        }
      ]
    },
    {
      "cell_type": "markdown",
      "metadata": {
        "id": "5iS4iqWKgJzR",
        "colab_type": "text"
      },
      "source": [
        "## END"
      ]
    },
    {
      "cell_type": "markdown",
      "metadata": {
        "id": "H77PcYbsgJzR",
        "colab_type": "text"
      },
      "source": [
        "RNNs are just a refactored, fully-connected neural network.\n",
        "\n",
        "You can use the same approach for any sequence labeling task (part of speech, classifying whether material is sensitive,..)"
      ]
    }
  ]
}